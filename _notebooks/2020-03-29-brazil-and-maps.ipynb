{
 "cells": [
  {
   "cell_type": "markdown",
   "metadata": {
    "colab_type": "text",
    "id": "QOkrx2UkrwV_"
   },
   "source": [
    "# Visualizando a COVID-19 no Brasil\n",
    "> Evolução e estágio atual dos estados brasileiros\n",
    "\n",
    "- toc: true \n",
    "- badges: true\n",
    "- hide_binder_badge: true\n",
    "- comments: true\n",
    "- categories: [colab]\n",
    "- image: images/br-maps.png"
   ]
  },
  {
   "cell_type": "markdown",
   "metadata": {
    "colab_type": "text",
    "id": "51oiBAe8shDI"
   },
   "source": [
    "> Caso esteja visualizando este post em um dispositivo móvel, por favor utilize seu dispositivo na horizontal.\n",
    "\n",
    "Este post reúne análises das ocorrências de COVID-19 nos estados do Brasil. Os dados utilizados para análise foram coletados pelo projeto [Brasil.io](https://brasil.io) dos sites das secretarias de saúde dos estados e municípios brasileiros.\n",
    "\n",
    "A análise inicial apresenta diferentes métricas, tanto absolutas (confirmados e mortes) quanto relativas (confirmados e mortes por 100 mil habitantes). Além disso, apresentamos a análise por dia e em dias decorridos desde o primeiro caso.\n",
    "\n",
    "> Sempre que alternar entre tipos de condição (confirmado ou morte), clique duas vezes na área principal do gráfico para que o zoom se ajuste (a área principal do gráfico tem pano de fundo quadriculado).\n",
    "\n",
    "A análise final se concentra em casos confirmados e usa georeferenciamento para visualizar a trajetória do vírus pelo Brasil. No mapa, é possível visualizar informações sobre cada localidade passando o mouse por cima do estado desejado.\n",
    "\n",
    "> É possível animar a linha do tempo da evolução dos casos apertando o botão play, ou visualizar uma data específica usando o slider.\n",
    "\n",
    "Em cada gráfico, várias outras opções de interação estão disponíveis, podendo ser exploradas pelo menu que aparece no canto superior direito de cada um."
   ]
  },
  {
   "cell_type": "code",
   "execution_count": null,
   "metadata": {
    "colab": {
     "base_uri": "https://localhost:8080/",
     "height": 207
    },
    "colab_type": "code",
    "id": "0xHmFH0tVkbW",
    "outputId": "9ff4e7bf-1f8a-4ece-bfcd-b96dfbb73522"
   },
   "outputs": [],
   "source": [
    "#hide\n",
    "!pip install -U plotly "
   ]
  },
  {
   "cell_type": "code",
   "execution_count": null,
   "metadata": {
    "colab": {},
    "colab_type": "code",
    "id": "S9wTeIcJ1y0V"
   },
   "outputs": [],
   "source": [
    "#hide\n",
    "import requests\n",
    "import datetime\n",
    "\n",
    "import folium\n",
    "import pandas as pd\n",
    "import numpy as np\n",
    "import plotly.express as px"
   ]
  },
  {
   "cell_type": "markdown",
   "metadata": {
    "colab_type": "text",
    "id": "ByJXfEpdxyBa"
   },
   "source": [
    "#### Evolução e estágio atual"
   ]
  },
  {
   "cell_type": "code",
   "execution_count": null,
   "metadata": {
    "colab": {},
    "colab_type": "code",
    "id": "lo_mgDab0IRG"
   },
   "outputs": [],
   "source": [
    "#hide\n",
    "page = 1\n",
    "base_url = url = \"https://brasil.io/api/dataset/covid19/caso/data?format=json&page=\" \n",
    "df_list = []\n",
    "\n",
    "while True:\n",
    "    json_brazil = requests.get(f\"{url}{page}\").json()\n",
    "    if \"count\" not in json_brazil:\n",
    "        break\n",
    "    df_list.append(pd.DataFrame(json_brazil[\"results\"]))\n",
    "    page += 1\n",
    "\n",
    "df = pd.concat(df_list)"
   ]
  },
  {
   "cell_type": "code",
   "execution_count": null,
   "metadata": {
    "colab": {},
    "colab_type": "code",
    "id": "IU_0nZ6unKMs"
   },
   "outputs": [],
   "source": [
    "#hide\n",
    "def reindex_by_date(df, max_day):\n",
    "    min_day = min(df[\"date\"])\n",
    "    df = df.set_index(\"date\")\n",
    "    dates = pd.date_range(min_day, max_day, name=\"date\")\n",
    "    return df.reindex(dates).ffill()"
   ]
  },
  {
   "cell_type": "code",
   "execution_count": null,
   "metadata": {
    "colab": {},
    "colab_type": "code",
    "id": "DE65oAVB8g1C"
   },
   "outputs": [],
   "source": [
    "#hide\n",
    "df_states = df.query(\"place_type == 'state'\")\n",
    "df_states = df_states.drop([\"city\",\"is_last\",\"order_for_place\",\"place_type\"], axis=1)\n",
    "\n",
    "last_day = max(df_states[\"date\"])\n",
    "df_states[\"date\"] = pd.to_datetime(df_states[\"date\"])\n",
    "df_states = df_states.groupby(\"state\").apply(lambda df: reindex_by_date(df, last_day))\n",
    "df_states = df_states.reset_index(\"date\").sort_values(\"date\")\n",
    "\n",
    "df_states.columns = [\"Data\", \"Código IBGE\", \"Confirmado\", \"Confirmado / cem mil\", \"Letalidade\", \"Morte\", \"População\", \"UF\"]\n",
    "df_states[\"Morte / cem mil\"] = df_states[\"Morte\"] / df_states[\"População\"] * 100000\n",
    "df_states = df_states.drop([\"Letalidade\", \"População\"], axis=1)\n",
    "\n",
    "ts_states = df_states.melt(id_vars=[\"Código IBGE\", \"Data\", \"UF\"], var_name=\"Métrica\", value_name=\"Quantidade\")"
   ]
  },
  {
   "cell_type": "markdown",
   "metadata": {
    "colab_type": "text",
    "id": "820BpPvj9xtn"
   },
   "source": [
    "##### Acumulado de casos por dia"
   ]
  },
  {
   "cell_type": "code",
   "execution_count": null,
   "metadata": {
    "colab": {
     "base_uri": "https://localhost:8080/",
     "height": 542
    },
    "colab_type": "code",
    "id": "bML-N9wB80dO",
    "outputId": "e25e5e49-bb4a-4a7d-ece6-60abcbededec"
   },
   "outputs": [],
   "source": [
    "#hide_input\n",
    "po = px.line(ts_states, x=\"Data\", y=\"Quantidade\", color=\"UF\", animation_frame=\"Métrica\")\n",
    "po.update_layout(\n",
    "#    title='Evolução dos casos de COVID-19 no Brasil',\n",
    "    xaxis_title=\"Dia\",\n",
    "    yaxis_title=\"Métrica\",\n",
    "    updatemenus=[{\"visible\": False}],\n",
    ")"
   ]
  },
  {
   "cell_type": "markdown",
   "metadata": {
    "colab_type": "text",
    "id": "1pfuahwB9z9z"
   },
   "source": [
    "##### Acumulado de casos em dias desde o primeiro caso confirmado"
   ]
  },
  {
   "cell_type": "code",
   "execution_count": null,
   "metadata": {
    "colab": {},
    "colab_type": "code",
    "id": "Ob2Z8HYKtv_Z"
   },
   "outputs": [],
   "source": [
    "#hide\n",
    "df_states[\"Data\"] = pd.to_datetime(df_states[\"Data\"])\n",
    "start_date = df_states.groupby(\"UF\")[\"Data\"].min().reset_index()\n",
    "start_date.columns = [\"UF\", \"Dia0\"]\n",
    "\n",
    "# adding day zero to df\n",
    "df_day0 = pd.merge(start_date, df_states)\n",
    "days_elapsed = pd.to_datetime(df_day0[\"Data\"]) - pd.to_datetime(df_day0[\"Dia0\"])\n",
    "df_day0[\"Dias\"] = days_elapsed.astype('timedelta64[D]')\n",
    "\n",
    "ts_day0 = df_day0.drop([\"Código IBGE\", \"Data\", \"Dia0\"], axis=1).melt(id_vars=[\"UF\", \"Dias\"], var_name=\"Métrica\", value_name=\"Quantidade\")"
   ]
  },
  {
   "cell_type": "code",
   "execution_count": null,
   "metadata": {
    "colab": {
     "base_uri": "https://localhost:8080/",
     "height": 542
    },
    "colab_type": "code",
    "id": "KRaOc0laumXq",
    "outputId": "c2609ac4-ee6e-4dff-eb3f-399bdabbb231"
   },
   "outputs": [],
   "source": [
    "#hide_input\n",
    "po = px.line(ts_day0, x=\"Dias\", y=\"Quantidade\", color=\"UF\", animation_frame=\"Métrica\")\n",
    "po.update_layout(\n",
    "#    title='Evolução dos casos de COVID-19 no Brasil',\n",
    "    xaxis_title=\"Dias desde o primeiro caso confirmado\",\n",
    "    yaxis_title=\"Métrica\",\n",
    "    updatemenus=[{\"visible\": False}],\n",
    ")"
   ]
  },
  {
   "cell_type": "markdown",
   "metadata": {
    "colab_type": "text",
    "id": "AgZf_nd95FWR"
   },
   "source": [
    "#### Trajetória de dispersão pelo Brasil"
   ]
  },
  {
   "cell_type": "markdown",
   "metadata": {
    "colab_type": "text",
    "id": "O9D-bmbI2h7G"
   },
   "source": [
    "##### Acumulado de casos confirmados por UF ao longo do tempo"
   ]
  },
  {
   "cell_type": "code",
   "execution_count": null,
   "metadata": {
    "colab": {},
    "colab_type": "code",
    "id": "sgTjlE-tAna1"
   },
   "outputs": [],
   "source": [
    "#hide\n",
    "df_states[\"log_confirmed\"] = np.log1p(df_states[\"Confirmado / cem mil\"])\n",
    "df_states[\"log_deaths\"] = np.log1p(df_states[\"Morte / cem mil\"])\n",
    "\n",
    "brazil = requests.get(\"https://servicodados.ibge.gov.br/api/v2/malhas/?formato=application/vnd.geo+json&resolucao=2\").json()\n",
    "states = requests.get(\"https://servicodados.ibge.gov.br/api/v1/localidades/estados\").json()\n",
    "for state in brazil['features']:\n",
    "    state['id'] = state['properties']['codarea']\n",
    "\n",
    "df_deaths = df_states.query(\"Morte > 0\").sort_values([\"Data\"])\n",
    "df_states[\"Data\"] = df_states[\"Data\"].dt.strftime(\"%d-%m\")\n",
    "df_deaths[\"Data\"] = df_deaths[\"Data\"].dt.strftime(\"%d-%m\")"
   ]
  }
 ],
 "metadata": {
  "colab": {
   "collapsed_sections": [],
   "name": "Brazil_and_Maps.ipynb",
   "provenance": []
  },
  "kernelspec": {
   "display_name": "Python 3",
   "language": "python",
   "name": "python3"
  },
  "language_info": {
   "codemirror_mode": {
    "name": "ipython",
    "version": 3
   },
   "file_extension": ".py",
   "mimetype": "text/x-python",
   "name": "python",
   "nbconvert_exporter": "python",
   "pygments_lexer": "ipython3",
   "version": "3.7.4"
  }
 },
 "nbformat": 4,
 "nbformat_minor": 1
}
