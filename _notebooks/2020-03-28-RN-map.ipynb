{
 "cells": [
  {
   "cell_type": "markdown",
   "metadata": {
    "colab_type": "text",
    "id": "QzLxyBYmhpGR"
   },
   "source": [
    "# Visualizando a COVID-19 no RN\n",
    "> Evolução e estágio atual dos municípios\n",
    "\n",
    "- toc: true \n",
    "- badges: true\n",
    "- hide_binder_badge: true\n",
    "- comments: true\n",
    "- categories: [colab]\n",
    "- image: images/rn.png"
   ]
  },
  {
   "cell_type": "markdown",
   "metadata": {
    "colab_type": "text",
    "id": "3IOAdd22bp_G"
   },
   "source": [
    "> Caso esteja visualizando este post em um dispositivo móvel, por favor utilize seu dispositivo na horizontal.\n",
    "\n",
    "Este post reúne análises das ocorrências de COVID-19 nos municípios do Rio Grande do Norte. Todos os municípios apresentados nesta análise tiveram casos suspeitos de COVID-19. Os dados utilizados para análise são fornecidos pela [Secretaria de Saúde Pública](http://www.saude.rn.gov.br/Conteudo.asp?TRAN=ITEM&TARG=223456&ACT=&PAGE=&PARM=&LBL=MAT%C9RIA).\n",
    "\n",
    "A análise inicial se concentra nos municípios de maior população, comparando suas situações com as situações do RN e do Brasil. Esta análise apresenta diferentes métricas, tanto absolutas (suspeitos e confirmados) quanto relativas (suspeitos e confirmados por 100 mil habitantes). Além disso, apresentamos a análise por dia e em dias decorridos desde o primeiro caso.\n",
    "\n",
    "> Sempre que alternar entre tipos de condição (suspeito ou confirmado), clique duas vezes na área principal do gráfico para que o zoom se ajuste (a área principal do gráfico tem pano de fundo quadriculado).\n",
    "\n",
    "A análise final apresenta casos suspeitos e confirmados e usa georeferenciamento para visualizar a trajetória do vírus pelo RN. Nesta análise, apresentamos tanto a evolução dos casos suspeitos como dos casos confirmados. Nos mapas, é possível visualizar informações sobre cada localidade passando o mouse por cima do município desejado.\n",
    "\n",
    "> É possível animar a linha do tempo da evolução dos casos apertando o botão play, ou visualizar uma data específica usando o slider.\n",
    "\n",
    "Em cada gráfico, várias outras opções de interação estão disponíveis, podendo ser exploradas pelo menu que aparece no canto superior direito de cada um."
   ]
  },
  {
   "cell_type": "code",
   "execution_count": null,
   "metadata": {
    "colab": {
     "base_uri": "https://localhost:8080/",
     "height": 424
    },
    "colab_type": "code",
    "id": "N3b__YtlWUPk",
    "outputId": "f321815a-c251-4acc-df2d-14b8fdd5104f"
   },
   "outputs": [],
   "source": [
    "#hide\n",
    "import requests\n",
    "import datetime\n",
    "from urllib.error import HTTPError\n",
    "\n",
    "import pandas as pd\n",
    "import numpy as np\n",
    "import plotly.express as px\n",
    "\n",
    "\n",
    "# base variables\n",
    "initial_date = datetime.date(2020,2,28)\n",
    "days_elapsed = (datetime.date.today() - initial_date).days + 1\n",
    "base_url = \"https://raw.githubusercontent.com/leobezerra/covid19/master/data/rn_covid_19_boletins\"\n",
    "\n",
    "# dicts for data collection\n",
    "dates = (f\"{(initial_date + datetime.timedelta(days=days)).strftime('%m-%d-%Y')}\" for days in range(0, days_elapsed))\n",
    "csvs = {f\"{day}\": f\"{base_url}/{day}.csv\" for day in dates}\n",
    "\n",
    "# collecting data\n",
    "dfs = []\n",
    "for day, url in csvs.items():\n",
    "    try:\n",
    "        dfs.append(pd.read_csv(url)) \n",
    "    except HTTPError:\n",
    "        pass\n",
    "df_mun = pd.concat(dfs)\n",
    "df_mun"
   ]
  },
  {
   "cell_type": "code",
   "execution_count": null,
   "metadata": {
    "colab": {},
    "colab_type": "code",
    "id": "nN2XpbILR3WY"
   },
   "outputs": [],
   "source": [
    "#hide\n",
    "df_mun = df_mun.drop([\"lat\", \"lon\"], axis=1)\n",
    "df_mun[\"log_suspeito\"] = np.log1p(df_mun[\"suspeito\"])\n",
    "df_mun.columns = ['localidade', 'data', 'confirmado', 'suspeito', \"log_suspeito\"]\n",
    "df_mun = df_mun.query(\"suspeito > 0 or confirmado > 0\").sort_values(\"data\")"
   ]
  },
  {
   "cell_type": "code",
   "execution_count": null,
   "metadata": {
    "colab": {},
    "colab_type": "code",
    "id": "i0wn_kMcghOB"
   },
   "outputs": [],
   "source": [
    "#hide\n",
    "page = 1\n",
    "base_url = url = \"https://brasil.io/api/dataset/covid19/caso/data?format=json&page=\" \n",
    "df_list = []\n",
    "\n",
    "while True:\n",
    "    json_brazil = requests.get(f\"{url}{page}\").json()\n",
    "    if \"count\" not in json_brazil:\n",
    "        break\n",
    "    df_list.append(pd.DataFrame(json_brazil[\"results\"]))\n",
    "    page += 1\n",
    "\n",
    "df = pd.concat(df_list)"
   ]
  },
  {
   "cell_type": "code",
   "execution_count": null,
   "metadata": {
    "colab": {},
    "colab_type": "code",
    "id": "rXncZ-sJwNqt"
   },
   "outputs": [],
   "source": [
    "#hide\n",
    "def reindex_by_date(df, max_day):\n",
    "    min_day = min(df[\"date\"])\n",
    "    df = df.set_index(\"date\")\n",
    "    dates = pd.date_range(min_day, max_day, name=\"date\")\n",
    "    return df.reindex(dates).ffill()"
   ]
  },
  {
   "cell_type": "code",
   "execution_count": null,
   "metadata": {
    "colab": {},
    "colab_type": "code",
    "id": "2NImcPjTwRNU"
   },
   "outputs": [],
   "source": [
    "#hide\n",
    "\n",
    "# Parsing the data for Brasil\n",
    "df_states = df.query(\"place_type == 'state'\")\n",
    "df_states = df_states[[\"confirmed\", \"date\", \"estimated_population_2019\", \"state\"]]\n",
    "\n",
    "last_day = max(df_states[\"date\"])\n",
    "df_states[\"date\"] = pd.to_datetime(df_states[\"date\"])\n",
    "df_states = df_states.groupby(\"state\").apply(lambda df: reindex_by_date(df, last_day))\n",
    "df_states = df_states.reset_index(\"date\").sort_values(\"date\")\n",
    "\n",
    "df_states.columns = [\"Data\", \"Confirmado\", \"População\", \"Localidade\"]\n",
    "df_states = df_states.drop([\"População\"], axis=1)\n",
    "\n",
    "df_brazil = df_states.groupby(\"Data\").sum().reset_index().assign(Localidade=\"BR\")\n",
    "df_io = pd.DataFrame(df_brazil, columns=[\"Confirmado\", \"Data\", \"Localidade\"])\n",
    "\n",
    "# Parsing the data for RN\n",
    "localidades = [\"Natal\", \"Parnamirim\", \"Mossoró\"]\n",
    "df_maiores = df_mun.query(f\"localidade in {localidades} and suspeito > 0\")\n",
    "\n",
    "df_rn = df_mun.groupby(\"data\").sum().reset_index().assign(localidade=\"RN\")\n",
    "df_maiores = pd.concat([df_maiores, df_rn], sort=True).drop(\"log_suspeito\", axis=1)\n",
    "df_maiores.columns = [\"Confirmado\", \"Data\", \"Localidade\", \"Suspeito\"]\n",
    "df_maiores = pd.concat([df_maiores, df_io], sort=True).query(\"Confirmado > 0\")\n",
    "\n",
    "# Computing relative metrics\n",
    "df = df.reset_index(drop=True)\n",
    "df.loc[(df[\"state\"] == 'RN') & df[\"city\"].isna(), 'city'] = \"RN\"\n",
    "\n",
    "df_pop = df.query(\"state == 'RN'\").groupby(\"city\").min()\n",
    "df_pop = df_pop.reset_index()[[\"city\", \"estimated_population_2019\"]].dropna()\n",
    "\n",
    "df_relative = pd.merge(df_maiores, df_pop, left_on=\"Localidade\", right_on=\"city\").drop(\"city\", axis=1)\n",
    "df_relative.columns = ['Confirmado', 'Data', 'Localidade', 'Suspeito',\n",
    "       'População']\n",
    "\n",
    "df_relative[\"Confirmado / cem mil\"] = df_relative[\"Confirmado\"] / df_relative[\"População\"] * 100000\n",
    "df_relative[\"Suspeito / cem mil\"] = df_relative[\"Suspeito\"] / df_relative[\"População\"] * 100000\n",
    "\n",
    "# Transforming the data for plotting\n",
    "ts_mun = df_relative.drop(\"População\", axis=1).melt(id_vars=[\"Localidade\", \"Data\"], var_name=\"Condição\", value_name=\"Quantidade\")"
   ]
  },
  {
   "cell_type": "markdown",
   "metadata": {
    "colab_type": "text",
    "id": "qIVNylOYEFHU"
   },
   "source": [
    "#### Evolução e estágio atual"
   ]
  },
  {
   "cell_type": "markdown",
   "metadata": {
    "colab_type": "text",
    "id": "EOBp4LihEH1J"
   },
   "source": [
    "##### Acumulado de casos por dia"
   ]
  },
  {
   "cell_type": "code",
   "execution_count": null,
   "metadata": {
    "colab": {
     "base_uri": "https://localhost:8080/",
     "height": 542
    },
    "colab_type": "code",
    "id": "KjW19miNdab0",
    "outputId": "e48c8366-7b83-4bfe-808a-a32dc4e75396"
   },
   "outputs": [],
   "source": [
    "#hide_input\n",
    "po = px.line(ts_mun, x=\"Data\", y=\"Quantidade\", animation_frame=\"Condição\", color=\"Localidade\")\n",
    "po.update_layout(\n",
    "#    title='Evolução dos casos de COVID-19 no Brasil',\n",
    "    xaxis_title=\"Dia\",\n",
    "    yaxis_title=\"Casos\",\n",
    "    updatemenus=[{\"visible\": False}],\n",
    ")"
   ]
  },
  {
   "cell_type": "markdown",
   "metadata": {
    "colab_type": "text",
    "id": "USpsRIYcEPln"
   },
   "source": [
    "##### Acumulado de casos em dias desde o primeiro caso confirmado"
   ]
  },
  {
   "cell_type": "code",
   "execution_count": null,
   "metadata": {
    "colab": {},
    "colab_type": "code",
    "id": "yrJieBsO1e5v"
   },
   "outputs": [],
   "source": [
    "#hide\n",
    "\n",
    "# Computing day zero\n",
    "df_relative[\"Data\"] = pd.to_datetime(df_relative[\"Data\"])\n",
    "start_date = df_relative.groupby(\"Localidade\")[\"Data\"].min().reset_index()\n",
    "start_date.columns = [\"Localidade\", \"Dia0\"]\n",
    "\n",
    "# Adding day zero to data\n",
    "df_day0 = pd.merge(start_date, df_relative)\n",
    "days_elapsed = pd.to_datetime(df_day0[\"Data\"]) - pd.to_datetime(df_day0[\"Dia0\"])\n",
    "df_day0[\"Dias\"] = days_elapsed.astype('timedelta64[D]')\n",
    "\n",
    "# Transforming the data for plotting\n",
    "ts_day0 = df_day0.drop([\"População\", \"Data\", \"Dia0\"], axis=1).melt(id_vars=[\"Localidade\", \"Dias\"], var_name=\"Condição\", value_name=\"Quantidade\")"
   ]
  },
  {
   "cell_type": "code",
   "execution_count": null,
   "metadata": {
    "colab": {
     "base_uri": "https://localhost:8080/",
     "height": 542
    },
    "colab_type": "code",
    "id": "EYLgFSXp0rW6",
    "outputId": "b395b0c6-4a2e-42ec-ac3b-f80dbee45700"
   },
   "outputs": [],
   "source": [
    "#hide_input\n",
    "po = px.line(ts_day0, x=\"Dias\", y=\"Quantidade\", color=\"Localidade\", animation_frame=\"Condição\")\n",
    "po.update_layout(\n",
    "#    title='Evolução dos casos de COVID-19 no Brasil',\n",
    "    xaxis_title=\"Dias desde o primeiro caso confirmado\",\n",
    "    yaxis_title=\"Casos confirmados\",\n",
    "    updatemenus=[{\"visible\": False}],\n",
    ")"
   ]
  },
  {
   "cell_type": "markdown",
   "metadata": {
    "colab_type": "text",
    "id": "HaNMhr8vEV3Y"
   },
   "source": [
    "#### Trajetória de dispersão pelo RN"
   ]
  },
  {
   "cell_type": "markdown",
   "metadata": {
    "colab_type": "text",
    "id": "Z86msQC5_t3K"
   },
   "source": [
    "##### Acumulado de casos suspeitos"
   ]
  },
  {
   "cell_type": "code",
   "execution_count": null,
   "metadata": {
    "colab": {},
    "colab_type": "code",
    "id": "JeZuEkQ3jpFV"
   },
   "outputs": [],
   "source": [
    "#hide\n",
    "rn = requests.get(\"https://servicodados.ibge.gov.br/api/v2/malhas/24/?formato=application/vnd.geo+json&resolucao=5\").json()\n",
    "for location in rn['features']:\n",
    "    location['id'] = location['properties']['codarea']\n",
    "\n",
    "locations = requests.get(\"https://servicodados.ibge.gov.br/api/v1/localidades/estados/24/distritos\").json()\n",
    "location_list = [{\n",
    "                  \"codarea\": municipio[\"municipio\"][\"id\"],\n",
    "                  \"localidade\": municipio[\"municipio\"][\"nome\"]\n",
    "                  }\n",
    "                 for municipio in locations]\n",
    "\n",
    "id_location = pd.DataFrame(location_list)   \n",
    "id_location.loc[id_location[\"localidade\"] == \"Augusto Severo\", \"localidade\"] = \"Campo Grande\"      \n",
    "\n",
    "df_ch = pd.merge(df_mun, id_location)\n",
    "df_confirmed = df_ch.query(\"confirmado > 0\").sort_values(\"data\")\n",
    "df_ch[\"data\"] = pd.to_datetime(df_ch[\"data\"]).dt.strftime(\"%d-%m\")\n",
    "df_confirmed[\"data\"] = pd.to_datetime(df_confirmed[\"data\"]).dt.strftime(\"%d-%m\")"
   ]
  }
 ],
 "metadata": {
  "colab": {
   "collapsed_sections": [],
   "name": "RN-Map.ipynb",
   "provenance": []
  },
  "kernelspec": {
   "display_name": "Python 3",
   "language": "python",
   "name": "python3"
  },
  "language_info": {
   "codemirror_mode": {
    "name": "ipython",
    "version": 3
   },
   "file_extension": ".py",
   "mimetype": "text/x-python",
   "name": "python",
   "nbconvert_exporter": "python",
   "pygments_lexer": "ipython3",
   "version": "3.7.4"
  }
 },
 "nbformat": 4,
 "nbformat_minor": 1
}
